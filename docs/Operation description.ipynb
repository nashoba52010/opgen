{
 "cells": [
  {
   "cell_type": "markdown",
   "id": "thick-portsmouth",
   "metadata": {},
   "source": [
    "# Operation description\n",
    "\n",
    "A new operation is described using a python file.  \n",
    "This python file is being executed to build this op description.  \n",
    "Furthermore, this file is also parsed, in order to extend the op description, because some features aren't really convenient to describe using python code.  \n",
    "For example, it's possible to embed python or other languages code in the op description, that will be copied later to the right file"
   ]
  },
  {
   "cell_type": "code",
   "execution_count": 5,
   "id": "strange-master",
   "metadata": {},
   "outputs": [],
   "source": [
    "class MyOp(OpDescriptor):\n",
    "    \n",
    "    def __init__(self):\n",
    "        # build op description by setting attributes / calling methods\n",
    "        pass\n",
    "    \n",
    "\n",
    "RegisterOpDescriptor(MyOp)"
   ]
  },
  {
   "cell_type": "markdown",
   "id": "ambient-immigration",
   "metadata": {},
   "source": [
    "## Operation attributes\n",
    "\n",
    "These are simple properties than can be set in constructor"
   ]
  },
  {
   "cell_type": "code",
   "execution_count": 10,
   "id": "recent-preparation",
   "metadata": {},
   "outputs": [],
   "source": [
    "class MyOp(OpDescriptor):\n",
    "    \n",
    "    def __init__(self):\n",
    "        \n",
    "        # Operation name\n",
    "        self.name = 'matmul'\n",
    "    \n",
    "        # Operation description\n",
    "        self.description = '2D matrix multiplication'\n",
    "        \n",
    "        # Name of inputs\n",
    "        self.inputs = ['lhs', 'rhs']\n",
    "        \n",
    "        # Name of outputs\n",
    "        self.outputs = ['result']\n",
    "        \n",
    "        # Attributes definiton\n",
    "        self.attrs =[('transpose_lhs', TypeBool()), ('transpose_rhs', TypeBool())]\n",
    "        \n",
    "        # Different versions for the operation\n",
    "        self.versions = [\n",
    "            v('f32', inputs=UnrankedTensor(TypeF32()), UnrankedTensor(TypeF32()), \n",
    "                outputs=[UnrankedTensor(TypeF32())]), \n",
    "            v('i32')\n",
    "        ]\n",
    "        \n",
    "        \n",
    "        \n",
    "        \n",
    "        # Find the version based on the inputs and attrs, or returns false if no version is found\n",
    "        self.dag_select_version = None "
   ]
  },
  {
   "cell_type": "code",
   "execution_count": null,
   "id": "linear-reality",
   "metadata": {},
   "outputs": [],
   "source": []
  }
 ],
 "metadata": {
  "kernelspec": {
   "display_name": "Python 3",
   "language": "python",
   "name": "python3"
  },
  "language_info": {
   "codemirror_mode": {
    "name": "ipython",
    "version": 3
   },
   "file_extension": ".py",
   "mimetype": "text/x-python",
   "name": "python",
   "nbconvert_exporter": "python",
   "pygments_lexer": "ipython3",
   "version": "3.6.9"
  }
 },
 "nbformat": 4,
 "nbformat_minor": 5
}
